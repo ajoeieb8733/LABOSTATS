{
 "cells": [
  {
   "cell_type": "markdown",
   "metadata": {},
   "source": [
    "# Rapport de TP de Statistiques - Lab 2  "
   ]
  },
  {
   "cell_type": "markdown",
   "metadata": {},
   "source": [
    "**STAT-H400 - Multivariate Statistics I**  \n",
    "**2024**  \n",
    "\n",
    "### Introduction  \n",
    "\n",
    "  \n",
    "\n",
    "L'étude se décompose en deux parties. \n",
    "- Dans un premier temps, les relations bivariées entre plusieurs variables seront visualisées et testées statistiquement à l'aide des données issues de l'expérience initiale. \n",
    "- Dans un second temps, les données améliorées permettront de répondre à des questions plus complexes, notamment sur la répartition aléatoire des patients, les différences d'effet entre les groupes, et la mesure du succès du traitement via des intervalles de confiance obtenus par bootstrap.\n"
   ]
  },
  {
   "cell_type": "markdown",
   "metadata": {},
   "source": [
    "##exerice 1\n",
    "#### Objectif\n",
    "Analyser les relations entre les paires de variables  ( \"instrument_experiment.csv\" )  :\n",
    "- `measure_before` vs `measure_after`\n",
    "- `measure_before` vs `temperature`\n",
    "- `hospital` vs `measure_before`\n",
    "- `instrument_id` vs `measure_before`\n",
    "\n",
    "Les diagramme permettent d'explorer les liens potentiels entre ces variables. Les résultats de ces visualisations sont présentés ci-dessous :\n",
    "\n"
   ]
  }
 ],
 "metadata": {
  "kernelspec": {
   "display_name": "Python 3",
   "language": "python",
   "name": "python3"
  },
  "language_info": {
   "codemirror_mode": {
    "name": "ipython",
    "version": 3
   },
   "file_extension": ".py",
   "mimetype": "text/x-python",
   "name": "python",
   "nbconvert_exporter": "python",
   "pygments_lexer": "ipython3",
   "version": "3.12.7"
  }
 },
 "nbformat": 4,
 "nbformat_minor": 2
}
